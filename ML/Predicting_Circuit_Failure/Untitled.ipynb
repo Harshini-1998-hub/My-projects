{
 "cells": [
  {
   "cell_type": "code",
   "execution_count": 9,
   "id": "bd537440-2044-418f-98a3-5ac4e2d51367",
   "metadata": {},
   "outputs": [
    {
     "name": "stdout",
     "output_type": "stream",
     "text": [
      "Number of characters: 512\n"
     ]
    }
   ],
   "source": [
    "# Define the statement\n",
    "statement = \"During my undergraduate studies, frequent server downtimes during critical deadlines sparked my curiosity, leading me to focus my master’s thesis on task scheduling in edge computing. I gained valuable insights into heterogeneous systems, load balancing, and power optimization. Now, I aim to apply machine learning to real-time data for optimizing edge computing systems by improving resource management, predicting failures, and enhancing system security, making this PhD position a perfect match for my goals.\"\n",
    "\n",
    "# Calculate the number of characters\n",
    "num_characters = len(statement)\n",
    "\n",
    "# Print the result\n",
    "print(\"Number of characters:\", num_characters)\n"
   ]
  },
  {
   "cell_type": "code",
   "execution_count": null,
   "id": "daa39a84-6085-469f-933b-7aa114c2e157",
   "metadata": {},
   "outputs": [],
   "source": []
  }
 ],
 "metadata": {
  "kernelspec": {
   "display_name": "Python 3 (ipykernel)",
   "language": "python",
   "name": "python3"
  },
  "language_info": {
   "codemirror_mode": {
    "name": "ipython",
    "version": 3
   },
   "file_extension": ".py",
   "mimetype": "text/x-python",
   "name": "python",
   "nbconvert_exporter": "python",
   "pygments_lexer": "ipython3",
   "version": "3.12.7"
  }
 },
 "nbformat": 4,
 "nbformat_minor": 5
}
